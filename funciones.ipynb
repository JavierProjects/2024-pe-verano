{
 "cells": [
  {
   "cell_type": "code",
   "execution_count": 11,
   "id": "22a08d15-50dc-4fed-ae2c-928c54c89130",
   "metadata": {},
   "outputs": [],
   "source": [
    "def frec_abs(datos_entrada):\n",
    "    '''\n",
    "    clases, fa_absoluta = frec_abs(datos_entrada)\n",
    "    Regresa las clases y frecuencias absolutas \n",
    "    de cada clase dada una lista de datos\n",
    "    \n",
    "    Ejemplo:\n",
    "    datos_entrada = [0, 1, 2, 0, 1, 3, 1, 3]\n",
    "    clases, fa_absoluta = frec_abs(datos_entrada)\n",
    "    >>> clases = [0, 1, 2, 3]\n",
    "    >>> fa_absoluta = [2, 3, 1, 2]\n",
    "    '''\n",
    "    clases, fa_absoluta = [], []\n",
    "    for elemento in datos_entrada:\n",
    "        if elemento not in clases:\n",
    "            clases.append(elemento)\n",
    "            fa_absoluta.append(1)\n",
    "        else:        \n",
    "            idx = clases.index(elemento)        \n",
    "            fa_absoluta[idx] += 1\n",
    "\n",
    "    return clases, fa_absoluta  "
   ]
  },
  {
   "cell_type": "code",
   "execution_count": 15,
   "id": "149bee71-8f13-4271-8328-15c140589897",
   "metadata": {},
   "outputs": [],
   "source": [
    "def ordenar_asc(arreglo):\n",
    "    '''\n",
    "    Regresa el arreglo ordenado de forma\n",
    "    ascendente.\n",
    "    \n",
    "    Ejemplo:\n",
    "    arreglo = [0, 5, 7, 6, 4, 2]\n",
    "    arr_sorted = ordenar_asc(arreglo)\n",
    "    >>> [0, 2, 4, 5, 6, 7]\n",
    "    '''\n",
    "    arr_len = len(arreglo)\n",
    "\n",
    "    for i in range(arr_len):\n",
    "        min_idx = i\n",
    "        for j in range(i+1, arr_len):\n",
    "            if arreglo[j] < arreglo[min_idx]:\n",
    "                min_idx = j\n",
    "        arreglo[i], arreglo[min_idx] = arreglo[min_idx], arreglo[i]         \n",
    "\n",
    "    return arreglo"
   ]
  },
  {
   "cell_type": "code",
   "execution_count": 20,
   "id": "8d374784-61bd-446c-96f3-7e6266a40a66",
   "metadata": {},
   "outputs": [],
   "source": [
    "def sort_clases_fa(clases_originales, clases_sorted, fa_absolutas):\n",
    "    '''\n",
    "    Regresa lista de frecuencias absolutas ordenadas\n",
    "    \n",
    "    Ejemplo:    \n",
    "    clases_originales = [0, 5, 7, 6, 4, 2]\n",
    "    clases_sorted = [0, 2, 4, 5, 6, 7]\n",
    "    fa_absolutas = [2, 3, 2, 1, 1, 2]\n",
    "    fa_sorted = sort_clases_fa(clases_originales, clases_sorted, fa_absolutas):\n",
    "    >>> [2, 2, 1, 3, 1, 2] \n",
    "    '''\n",
    "\n",
    "    fa_sorted = []\n",
    "    for elemento in clases_sorted:\n",
    "        idx = clases_originales.index(elemento)\n",
    "        fa = fa_absolutas[idx]\n",
    "        fa_sorted.append(fa)\n",
    "\n",
    "    return fa_sorted"
   ]
  },
  {
   "cell_type": "code",
   "execution_count": 21,
   "id": "319a5d0e-1919-4d3b-8984-65158ad95c4a",
   "metadata": {},
   "outputs": [
    {
     "name": "stdout",
     "output_type": "stream",
     "text": [
      "[2, 2, 1, 3, 1, 2]\n"
     ]
    }
   ],
   "source": [
    "clases_originales = [0, 5, 7, 6, 4, 2]\n",
    "clases_sorted = [0, 2, 4, 5, 6, 7]\n",
    "fa_absolutas = [2, 3, 2, 1, 1, 2]\n",
    "fa_sorted = sort_clases_fa(clases_originales, clases_sorted, fa_absolutas)\n",
    "print(fa_sorted)    "
   ]
  },
  {
   "cell_type": "code",
   "execution_count": 16,
   "id": "25e8ef77-5057-45db-90fc-51542d48c09c",
   "metadata": {},
   "outputs": [
    {
     "name": "stdout",
     "output_type": "stream",
     "text": [
      "[0, 2, 4, 5, 6, 7]\n"
     ]
    }
   ],
   "source": [
    "arreglo = [0, 5, 7, 6, 4, 2]\n",
    "arr_sorted = ordenar_asc(arreglo)\n",
    "print(arr_sorted)"
   ]
  },
  {
   "cell_type": "code",
   "execution_count": 9,
   "id": "c5689a0e-52c1-4791-b89d-2b1d1327c6b5",
   "metadata": {},
   "outputs": [
    {
     "name": "stdout",
     "output_type": "stream",
     "text": [
      "[0, 1, 2, 3]\n",
      "[2, 3, 1, 2]\n"
     ]
    }
   ],
   "source": [
    "datos_entrada = [0, 1, 2, 0, 1, 3, 1, 3]\n",
    "clases, fa_absoluta = frec_abs(datos_entrada)\n",
    "print(clases)\n",
    "print(fa_absoluta)"
   ]
  },
  {
   "cell_type": "code",
   "execution_count": 22,
   "id": "ae4c4249-0004-4d4e-9eb7-62205bfe68bc",
   "metadata": {},
   "outputs": [
    {
     "name": "stdout",
     "output_type": "stream",
     "text": [
      "[0, 5, 7, 6, 4, 2]\n",
      "[2, 3, 2, 1, 1, 2]\n"
     ]
    }
   ],
   "source": [
    "datos_entrada = [0, 0, 5, 7, 6, 4, 5, 2, 2, 5, 7]\n",
    "clases, fa_absoluta = frec_abs(datos_entrada)\n",
    "print(clases)\n",
    "print(fa_absoluta)"
   ]
  },
  {
   "cell_type": "code",
   "execution_count": 24,
   "id": "c96be4ee-b565-4fb4-9f88-4fa43bbf96b5",
   "metadata": {},
   "outputs": [
    {
     "name": "stdout",
     "output_type": "stream",
     "text": [
      "Clases:  [0, 2, 4, 5, 6, 7]\n",
      "Frec. absoluta:  [2, 3, 2, 1, 1, 2]\n"
     ]
    }
   ],
   "source": [
    "datos_entrada = [0, 0, 5, 7, 6, 4, 5, 2, 2, 5, 7]\n",
    "clases, fa_absoluta = frec_abs(datos_entrada)\n",
    "clases_sorted = ordenar_asc(clases)\n",
    "fa_sorted = sort_clases_fa(clases, clases_sorted, fa_absoluta)\n",
    "print('Clases: ', clases_sorted)\n",
    "print('Frec. absoluta: ', fa_sorted)"
   ]
  }
 ],
 "metadata": {
  "kernelspec": {
   "display_name": "Python 3 (ipykernel)",
   "language": "python",
   "name": "python3"
  },
  "language_info": {
   "codemirror_mode": {
    "name": "ipython",
    "version": 3
   },
   "file_extension": ".py",
   "mimetype": "text/x-python",
   "name": "python",
   "nbconvert_exporter": "python",
   "pygments_lexer": "ipython3",
   "version": "3.8.5"
  }
 },
 "nbformat": 4,
 "nbformat_minor": 5
}
